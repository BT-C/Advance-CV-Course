{
 "cells": [
  {
   "cell_type": "markdown",
   "metadata": {},
   "source": [
    "# Project IV. Face Detection with a Sliding Window\n",
    "1. Extract features for positive examples\n",
    "2. Extract features for random negative examples\n",
    "3. Mine hard negatives\n",
    "4. Train a linear classifier\n",
    "5. Detect faces on the test set\n",
    "\n",
    "\n"
   ]
  },
  {
   "cell_type": "markdown",
   "metadata": {},
   "source": [
    "## Setup\n",
    "Please install required packages and make sure the version are valid \n",
    "\n",
    "eg. \n",
    "\n",
    "scikit-image==0.17.2 / cyvlfeat\n",
    "\n",
    "scikit-learn==0.24.1 \n",
    "\n",
    "scipy==1.6.0 \n",
    "\n",
    "numpy==1.20.0 \n",
    "\n",
    "PS. there might be some difference between the two feature extractor API(skimage, cyvlfeat), please be careful.\n"
   ]
  },
  {
   "cell_type": "code",
   "execution_count": 1,
   "metadata": {},
   "outputs": [],
   "source": [
    "import cv2\n",
    "import numpy as np\n",
    "import os.path as osp\n",
    "import matplotlib.pyplot as plt\n",
    "from utils import *\n",
    "import student as sc"
   ]
  },
  {
   "cell_type": "code",
   "execution_count": 2,
   "metadata": {},
   "outputs": [],
   "source": [
    "data_path = osp.join('..','data')\n",
    "# Positive training examples. 36x36 head crops\n",
    "train_path_pos = osp.join(data_path, 'caltech_faces', 'Caltech_CropFaces')\n",
    "# Mine random or hard negatives from here\n",
    "non_face_scn_path = osp.join(data_path, 'train_non_face_scenes')\n",
    "# CMU+MIT test scenes\n",
    "test_scn_path = osp.join(data_path, 'test_scenes', 'test_jpg')\n",
    "# Ground truth face locations in the test set\n",
    "label_filename = osp.join(data_path, 'test_scenes', 'ground_truth_bboxes.txt')\n",
    "\n",
    "# The faces are 36x36 pixels, which works fine as a template size. You could\n",
    "# add other fields to this dict if you want to modify HoG default\n",
    "# parameters such as the number of orientations, but that does not help\n",
    "# performance in our limited test.\n",
    "feature_params = {'template_size': 36, 'hog_cell_size': 6}\n",
    "\n",
    "# Number of negatives to use for training.\n",
    "# Higher will work strictly better, but you should start with 10000 for debugging\n",
    "num_negative_examples = 10000"
   ]
  },
  {
   "cell_type": "markdown",
   "metadata": {},
   "source": [
    "## Section 1: Load positive training crops and random negative examples"
   ]
  },
  {
   "cell_type": "code",
   "execution_count": 3,
   "metadata": {},
   "outputs": [],
   "source": [
    "features_pos = sc.get_positive_features(train_path_pos, feature_params)"
   ]
  },
  {
   "cell_type": "code",
   "execution_count": 4,
   "metadata": {},
   "outputs": [
    {
     "name": "stderr",
     "output_type": "stream",
     "text": [
      "/mnt/hdd2/chenbeitao/code/CV-Project/Projects/proj4/code/student.py:28: VisibleDeprecationWarning: Creating an ndarray from ragged nested sequences (which is a list-or-tuple of lists-or-tuples-or ndarrays with different lengths or shapes) is deprecated. If you meant to do this, you must specify 'dtype=object' when creating the ndarray.\n",
      "  feats = np.array(feats)\n"
     ]
    }
   ],
   "source": [
    "features_neg = sc.get_random_negative_features(non_face_scn_path, feature_params,\n",
    "                                               num_negative_examples)"
   ]
  },
  {
   "cell_type": "markdown",
   "metadata": {},
   "source": [
    "## Section 2: Train Classifier\n",
    "Use [scikit-learn LinearSVC](http://scikit-learn.org/stable/modules/generated/sklearn.svm.LinearSVC.html#sklearn.svm.LinearSVC) to on your training features to learn a linear classifier. The regularization constant C is an important parameter, try many values. Small values seem to work better (e.g. 1e-4), but you can try other values."
   ]
  },
  {
   "cell_type": "code",
   "execution_count": 6,
   "metadata": {
    "scrolled": true
   },
   "outputs": [
    {
     "ename": "ValueError",
     "evalue": "This solver needs samples of at least 2 classes in the data, but the data contains only one class: 1",
     "output_type": "error",
     "traceback": [
      "\u001b[0;31m---------------------------------------------------------------------------\u001b[0m",
      "\u001b[0;31mValueError\u001b[0m                                Traceback (most recent call last)",
      "\u001b[1;32m/home/chenbeitao/data/code/CV-Project/Projects/proj4/code/proj4.ipynb Cell 9'\u001b[0m in \u001b[0;36m<cell line: 1>\u001b[0;34m()\u001b[0m\n\u001b[0;32m----> <a href='vscode-notebook-cell://ssh-remote%2B7b22686f73744e616d65223a224841472d4136303030227d/home/chenbeitao/data/code/CV-Project/Projects/proj4/code/proj4.ipynb#ch0000008vscode-remote?line=0'>1</a>\u001b[0m svm \u001b[39m=\u001b[39m sc\u001b[39m.\u001b[39;49mtrain_classifier(features_pos, features_neg, \u001b[39m5e-2\u001b[39;49m)\n",
      "File \u001b[0;32m/mnt/hdd2/chenbeitao/code/CV-Project/Projects/proj4/code/student.py:149\u001b[0m, in \u001b[0;36mtrain_classifier\u001b[0;34m(features_pos, features_neg, C)\u001b[0m\n\u001b[1;32m    <a href='file:///mnt/hdd2/chenbeitao/code/CV-Project/Projects/proj4/code/student.py?line=144'>145</a>\u001b[0m \u001b[39m###########################################################################\u001b[39;00m\n\u001b[1;32m    <a href='file:///mnt/hdd2/chenbeitao/code/CV-Project/Projects/proj4/code/student.py?line=145'>146</a>\u001b[0m \u001b[39m#                           TODO: YOUR CODE HERE                          #\u001b[39;00m\n\u001b[1;32m    <a href='file:///mnt/hdd2/chenbeitao/code/CV-Project/Projects/proj4/code/student.py?line=146'>147</a>\u001b[0m \u001b[39m###########################################################################\u001b[39;00m\n\u001b[1;32m    <a href='file:///mnt/hdd2/chenbeitao/code/CV-Project/Projects/proj4/code/student.py?line=147'>148</a>\u001b[0m svm \u001b[39m=\u001b[39m LinearSVC(C\u001b[39m=\u001b[39mC)\n\u001b[0;32m--> <a href='file:///mnt/hdd2/chenbeitao/code/CV-Project/Projects/proj4/code/student.py?line=148'>149</a>\u001b[0m svm\u001b[39m.\u001b[39;49mfit(features_pos, [\u001b[39m1\u001b[39;49m \u001b[39mfor\u001b[39;49;00m _ \u001b[39min\u001b[39;49;00m \u001b[39mrange\u001b[39;49m(features_pos\u001b[39m.\u001b[39;49mshape[\u001b[39m0\u001b[39;49m])])\n\u001b[1;32m    <a href='file:///mnt/hdd2/chenbeitao/code/CV-Project/Projects/proj4/code/student.py?line=149'>150</a>\u001b[0m svm\u001b[39m.\u001b[39mfit(features_neg, [\u001b[39m0\u001b[39m \u001b[39mfor\u001b[39;00m _ \u001b[39min\u001b[39;00m \u001b[39mrange\u001b[39m(features_neg\u001b[39m.\u001b[39mshape[\u001b[39m0\u001b[39m])])\n\u001b[1;32m    <a href='file:///mnt/hdd2/chenbeitao/code/CV-Project/Projects/proj4/code/student.py?line=150'>151</a>\u001b[0m \u001b[39m###########################################################################\u001b[39;00m\n\u001b[1;32m    <a href='file:///mnt/hdd2/chenbeitao/code/CV-Project/Projects/proj4/code/student.py?line=151'>152</a>\u001b[0m \u001b[39m#                             END OF YOUR CODE                            #\u001b[39;00m\n\u001b[1;32m    <a href='file:///mnt/hdd2/chenbeitao/code/CV-Project/Projects/proj4/code/student.py?line=152'>153</a>\u001b[0m \u001b[39m###########################################################################\u001b[39;00m\n",
      "File \u001b[0;32m~/anaconda3/envs/mmlab/lib/python3.8/site-packages/sklearn/svm/_classes.py:257\u001b[0m, in \u001b[0;36mLinearSVC.fit\u001b[0;34m(self, X, y, sample_weight)\u001b[0m\n\u001b[1;32m    <a href='file:///home/chenbeitao/anaconda3/envs/mmlab/lib/python3.8/site-packages/sklearn/svm/_classes.py?line=253'>254</a>\u001b[0m check_classification_targets(y)\n\u001b[1;32m    <a href='file:///home/chenbeitao/anaconda3/envs/mmlab/lib/python3.8/site-packages/sklearn/svm/_classes.py?line=254'>255</a>\u001b[0m \u001b[39mself\u001b[39m\u001b[39m.\u001b[39mclasses_ \u001b[39m=\u001b[39m np\u001b[39m.\u001b[39munique(y)\n\u001b[0;32m--> <a href='file:///home/chenbeitao/anaconda3/envs/mmlab/lib/python3.8/site-packages/sklearn/svm/_classes.py?line=256'>257</a>\u001b[0m \u001b[39mself\u001b[39m\u001b[39m.\u001b[39mcoef_, \u001b[39mself\u001b[39m\u001b[39m.\u001b[39mintercept_, n_iter_ \u001b[39m=\u001b[39m _fit_liblinear(\n\u001b[1;32m    <a href='file:///home/chenbeitao/anaconda3/envs/mmlab/lib/python3.8/site-packages/sklearn/svm/_classes.py?line=257'>258</a>\u001b[0m     X,\n\u001b[1;32m    <a href='file:///home/chenbeitao/anaconda3/envs/mmlab/lib/python3.8/site-packages/sklearn/svm/_classes.py?line=258'>259</a>\u001b[0m     y,\n\u001b[1;32m    <a href='file:///home/chenbeitao/anaconda3/envs/mmlab/lib/python3.8/site-packages/sklearn/svm/_classes.py?line=259'>260</a>\u001b[0m     \u001b[39mself\u001b[39;49m\u001b[39m.\u001b[39;49mC,\n\u001b[1;32m    <a href='file:///home/chenbeitao/anaconda3/envs/mmlab/lib/python3.8/site-packages/sklearn/svm/_classes.py?line=260'>261</a>\u001b[0m     \u001b[39mself\u001b[39;49m\u001b[39m.\u001b[39;49mfit_intercept,\n\u001b[1;32m    <a href='file:///home/chenbeitao/anaconda3/envs/mmlab/lib/python3.8/site-packages/sklearn/svm/_classes.py?line=261'>262</a>\u001b[0m     \u001b[39mself\u001b[39;49m\u001b[39m.\u001b[39;49mintercept_scaling,\n\u001b[1;32m    <a href='file:///home/chenbeitao/anaconda3/envs/mmlab/lib/python3.8/site-packages/sklearn/svm/_classes.py?line=262'>263</a>\u001b[0m     \u001b[39mself\u001b[39;49m\u001b[39m.\u001b[39;49mclass_weight,\n\u001b[1;32m    <a href='file:///home/chenbeitao/anaconda3/envs/mmlab/lib/python3.8/site-packages/sklearn/svm/_classes.py?line=263'>264</a>\u001b[0m     \u001b[39mself\u001b[39;49m\u001b[39m.\u001b[39;49mpenalty,\n\u001b[1;32m    <a href='file:///home/chenbeitao/anaconda3/envs/mmlab/lib/python3.8/site-packages/sklearn/svm/_classes.py?line=264'>265</a>\u001b[0m     \u001b[39mself\u001b[39;49m\u001b[39m.\u001b[39;49mdual,\n\u001b[1;32m    <a href='file:///home/chenbeitao/anaconda3/envs/mmlab/lib/python3.8/site-packages/sklearn/svm/_classes.py?line=265'>266</a>\u001b[0m     \u001b[39mself\u001b[39;49m\u001b[39m.\u001b[39;49mverbose,\n\u001b[1;32m    <a href='file:///home/chenbeitao/anaconda3/envs/mmlab/lib/python3.8/site-packages/sklearn/svm/_classes.py?line=266'>267</a>\u001b[0m     \u001b[39mself\u001b[39;49m\u001b[39m.\u001b[39;49mmax_iter,\n\u001b[1;32m    <a href='file:///home/chenbeitao/anaconda3/envs/mmlab/lib/python3.8/site-packages/sklearn/svm/_classes.py?line=267'>268</a>\u001b[0m     \u001b[39mself\u001b[39;49m\u001b[39m.\u001b[39;49mtol,\n\u001b[1;32m    <a href='file:///home/chenbeitao/anaconda3/envs/mmlab/lib/python3.8/site-packages/sklearn/svm/_classes.py?line=268'>269</a>\u001b[0m     \u001b[39mself\u001b[39;49m\u001b[39m.\u001b[39;49mrandom_state,\n\u001b[1;32m    <a href='file:///home/chenbeitao/anaconda3/envs/mmlab/lib/python3.8/site-packages/sklearn/svm/_classes.py?line=269'>270</a>\u001b[0m     \u001b[39mself\u001b[39;49m\u001b[39m.\u001b[39;49mmulti_class,\n\u001b[1;32m    <a href='file:///home/chenbeitao/anaconda3/envs/mmlab/lib/python3.8/site-packages/sklearn/svm/_classes.py?line=270'>271</a>\u001b[0m     \u001b[39mself\u001b[39;49m\u001b[39m.\u001b[39;49mloss,\n\u001b[1;32m    <a href='file:///home/chenbeitao/anaconda3/envs/mmlab/lib/python3.8/site-packages/sklearn/svm/_classes.py?line=271'>272</a>\u001b[0m     sample_weight\u001b[39m=\u001b[39;49msample_weight,\n\u001b[1;32m    <a href='file:///home/chenbeitao/anaconda3/envs/mmlab/lib/python3.8/site-packages/sklearn/svm/_classes.py?line=272'>273</a>\u001b[0m )\n\u001b[1;32m    <a href='file:///home/chenbeitao/anaconda3/envs/mmlab/lib/python3.8/site-packages/sklearn/svm/_classes.py?line=273'>274</a>\u001b[0m \u001b[39m# Backward compatibility: _fit_liblinear is used both by LinearSVC/R\u001b[39;00m\n\u001b[1;32m    <a href='file:///home/chenbeitao/anaconda3/envs/mmlab/lib/python3.8/site-packages/sklearn/svm/_classes.py?line=274'>275</a>\u001b[0m \u001b[39m# and LogisticRegression but LogisticRegression sets a structured\u001b[39;00m\n\u001b[1;32m    <a href='file:///home/chenbeitao/anaconda3/envs/mmlab/lib/python3.8/site-packages/sklearn/svm/_classes.py?line=275'>276</a>\u001b[0m \u001b[39m# `n_iter_` attribute with information about the underlying OvR fits\u001b[39;00m\n\u001b[1;32m    <a href='file:///home/chenbeitao/anaconda3/envs/mmlab/lib/python3.8/site-packages/sklearn/svm/_classes.py?line=276'>277</a>\u001b[0m \u001b[39m# while LinearSVC/R only reports the maximum value.\u001b[39;00m\n\u001b[1;32m    <a href='file:///home/chenbeitao/anaconda3/envs/mmlab/lib/python3.8/site-packages/sklearn/svm/_classes.py?line=277'>278</a>\u001b[0m \u001b[39mself\u001b[39m\u001b[39m.\u001b[39mn_iter_ \u001b[39m=\u001b[39m n_iter_\u001b[39m.\u001b[39mmax()\u001b[39m.\u001b[39mitem()\n",
      "File \u001b[0;32m~/anaconda3/envs/mmlab/lib/python3.8/site-packages/sklearn/svm/_base.py:1162\u001b[0m, in \u001b[0;36m_fit_liblinear\u001b[0;34m(X, y, C, fit_intercept, intercept_scaling, class_weight, penalty, dual, verbose, max_iter, tol, random_state, multi_class, loss, epsilon, sample_weight)\u001b[0m\n\u001b[1;32m   <a href='file:///home/chenbeitao/anaconda3/envs/mmlab/lib/python3.8/site-packages/sklearn/svm/_base.py?line=1159'>1160</a>\u001b[0m     classes_ \u001b[39m=\u001b[39m enc\u001b[39m.\u001b[39mclasses_\n\u001b[1;32m   <a href='file:///home/chenbeitao/anaconda3/envs/mmlab/lib/python3.8/site-packages/sklearn/svm/_base.py?line=1160'>1161</a>\u001b[0m     \u001b[39mif\u001b[39;00m \u001b[39mlen\u001b[39m(classes_) \u001b[39m<\u001b[39m \u001b[39m2\u001b[39m:\n\u001b[0;32m-> <a href='file:///home/chenbeitao/anaconda3/envs/mmlab/lib/python3.8/site-packages/sklearn/svm/_base.py?line=1161'>1162</a>\u001b[0m         \u001b[39mraise\u001b[39;00m \u001b[39mValueError\u001b[39;00m(\n\u001b[1;32m   <a href='file:///home/chenbeitao/anaconda3/envs/mmlab/lib/python3.8/site-packages/sklearn/svm/_base.py?line=1162'>1163</a>\u001b[0m             \u001b[39m\"\u001b[39m\u001b[39mThis solver needs samples of at least 2 classes\u001b[39m\u001b[39m\"\u001b[39m\n\u001b[1;32m   <a href='file:///home/chenbeitao/anaconda3/envs/mmlab/lib/python3.8/site-packages/sklearn/svm/_base.py?line=1163'>1164</a>\u001b[0m             \u001b[39m\"\u001b[39m\u001b[39m in the data, but the data contains only one\u001b[39m\u001b[39m\"\u001b[39m\n\u001b[1;32m   <a href='file:///home/chenbeitao/anaconda3/envs/mmlab/lib/python3.8/site-packages/sklearn/svm/_base.py?line=1164'>1165</a>\u001b[0m             \u001b[39m\"\u001b[39m\u001b[39m class: \u001b[39m\u001b[39m%r\u001b[39;00m\u001b[39m\"\u001b[39m\n\u001b[1;32m   <a href='file:///home/chenbeitao/anaconda3/envs/mmlab/lib/python3.8/site-packages/sklearn/svm/_base.py?line=1165'>1166</a>\u001b[0m             \u001b[39m%\u001b[39m classes_[\u001b[39m0\u001b[39m]\n\u001b[1;32m   <a href='file:///home/chenbeitao/anaconda3/envs/mmlab/lib/python3.8/site-packages/sklearn/svm/_base.py?line=1166'>1167</a>\u001b[0m         )\n\u001b[1;32m   <a href='file:///home/chenbeitao/anaconda3/envs/mmlab/lib/python3.8/site-packages/sklearn/svm/_base.py?line=1168'>1169</a>\u001b[0m     class_weight_ \u001b[39m=\u001b[39m compute_class_weight(class_weight, classes\u001b[39m=\u001b[39mclasses_, y\u001b[39m=\u001b[39my)\n\u001b[1;32m   <a href='file:///home/chenbeitao/anaconda3/envs/mmlab/lib/python3.8/site-packages/sklearn/svm/_base.py?line=1169'>1170</a>\u001b[0m \u001b[39melse\u001b[39;00m:\n",
      "\u001b[0;31mValueError\u001b[0m: This solver needs samples of at least 2 classes in the data, but the data contains only one class: 1"
     ]
    }
   ],
   "source": [
    "svm = sc.train_classifier(features_pos, features_neg, 5e-2)"
   ]
  },
  {
   "cell_type": "code",
   "execution_count": 7,
   "metadata": {},
   "outputs": [
    {
     "ename": "ValueError",
     "evalue": "all the input arrays must have same number of dimensions, but the array at index 0 has 2 dimension(s) and the array at index 1 has 1 dimension(s)",
     "output_type": "error",
     "traceback": [
      "\u001b[0;31m---------------------------------------------------------------------------\u001b[0m",
      "\u001b[0;31mValueError\u001b[0m                                Traceback (most recent call last)",
      "\u001b[1;32m/home/chenbeitao/data/code/CV-Project/Projects/proj4/code/proj4.ipynb Cell 10'\u001b[0m in \u001b[0;36m<cell line: 3>\u001b[0;34m()\u001b[0m\n\u001b[1;32m      <a href='vscode-notebook-cell://ssh-remote%2B7b22686f73744e616d65223a224841472d4136303030227d/home/chenbeitao/data/code/CV-Project/Projects/proj4/code/proj4.ipynb#ch0000033vscode-remote?line=0'>1</a>\u001b[0m \u001b[39mfrom\u001b[39;00m \u001b[39msklearn\u001b[39;00m\u001b[39m.\u001b[39;00m\u001b[39msvm\u001b[39;00m \u001b[39mimport\u001b[39;00m LinearSVC\n\u001b[1;32m      <a href='vscode-notebook-cell://ssh-remote%2B7b22686f73744e616d65223a224841472d4136303030227d/home/chenbeitao/data/code/CV-Project/Projects/proj4/code/proj4.ipynb#ch0000033vscode-remote?line=1'>2</a>\u001b[0m svm \u001b[39m=\u001b[39m LinearSVC(C\u001b[39m=\u001b[39m \u001b[39m5e-2\u001b[39m)\n\u001b[0;32m----> <a href='vscode-notebook-cell://ssh-remote%2B7b22686f73744e616d65223a224841472d4136303030227d/home/chenbeitao/data/code/CV-Project/Projects/proj4/code/proj4.ipynb#ch0000033vscode-remote?line=2'>3</a>\u001b[0m train_data \u001b[39m=\u001b[39m np\u001b[39m.\u001b[39;49mconcatenate([features_pos, features_neg], axis\u001b[39m=\u001b[39;49m\u001b[39m0\u001b[39;49m)\n\u001b[1;32m      <a href='vscode-notebook-cell://ssh-remote%2B7b22686f73744e616d65223a224841472d4136303030227d/home/chenbeitao/data/code/CV-Project/Projects/proj4/code/proj4.ipynb#ch0000033vscode-remote?line=3'>4</a>\u001b[0m train_label \u001b[39m=\u001b[39m []\n\u001b[1;32m      <a href='vscode-notebook-cell://ssh-remote%2B7b22686f73744e616d65223a224841472d4136303030227d/home/chenbeitao/data/code/CV-Project/Projects/proj4/code/proj4.ipynb#ch0000033vscode-remote?line=4'>5</a>\u001b[0m train_label\u001b[39m.\u001b[39mextend([\u001b[39m1\u001b[39m \u001b[39mfor\u001b[39;00m _ \u001b[39min\u001b[39;00m \u001b[39mrange\u001b[39m(features_pos\u001b[39m.\u001b[39mshape[\u001b[39m0\u001b[39m])])\n",
      "File \u001b[0;32m<__array_function__ internals>:5\u001b[0m, in \u001b[0;36mconcatenate\u001b[0;34m(*args, **kwargs)\u001b[0m\n",
      "\u001b[0;31mValueError\u001b[0m: all the input arrays must have same number of dimensions, but the array at index 0 has 2 dimension(s) and the array at index 1 has 1 dimension(s)"
     ]
    }
   ],
   "source": [
    "from sklearn.svm import LinearSVC\n",
    "svm = LinearSVC(C= 5e-2)\n",
    "print(features_pos.shape)\n",
    "train_data = np.concatenate([features_pos, features_neg], axis=0)\n",
    "train_label = []\n",
    "train_label.extend([1 for _ in range(features_pos.shape[0])])\n",
    "train_label.extend([0 for _ in range(features_neg.shape[0])])\n",
    "\n",
    "svm.fit(train_data, train_label)"
   ]
  },
  {
   "cell_type": "markdown",
   "metadata": {},
   "source": [
    "## Section 3: Examine Learned Classifier\n",
    "You don't need to modify anything in this section. The section first\n",
    "evaluates _training_ error, which isn't ultimately what we care about,\n",
    "but it's a good sanity check. Your training error should be very low."
   ]
  },
  {
   "cell_type": "code",
   "execution_count": null,
   "metadata": {
    "scrolled": true
   },
   "outputs": [
    {
     "ename": "AttributeError",
     "evalue": "'NoneType' object has no attribute 'decision_function'",
     "output_type": "error",
     "traceback": [
      "\u001b[0;31m---------------------------------------------------------------------------\u001b[0m",
      "\u001b[0;31mAttributeError\u001b[0m                            Traceback (most recent call last)",
      "\u001b[1;32m/home/chenbeitao/data/code/CV-Project/Projects/proj4/code/proj4.ipynb Cell 11'\u001b[0m in \u001b[0;36m<cell line: 1>\u001b[0;34m()\u001b[0m\n\u001b[0;32m----> <a href='vscode-notebook-cell://ssh-remote%2B7b22686f73744e616d65223a224841472d4136303030227d/home/chenbeitao/data/code/CV-Project/Projects/proj4/code/proj4.ipynb#ch0000010vscode-remote?line=0'>1</a>\u001b[0m confidences \u001b[39m=\u001b[39m svm\u001b[39m.\u001b[39;49mdecision_function(np\u001b[39m.\u001b[39mvstack((features_pos, features_neg)))\n\u001b[1;32m      <a href='vscode-notebook-cell://ssh-remote%2B7b22686f73744e616d65223a224841472d4136303030227d/home/chenbeitao/data/code/CV-Project/Projects/proj4/code/proj4.ipynb#ch0000010vscode-remote?line=1'>2</a>\u001b[0m label_vector \u001b[39m=\u001b[39m np\u001b[39m.\u001b[39mhstack((np\u001b[39m.\u001b[39mones(\u001b[39mlen\u001b[39m(features_pos)), \u001b[39m-\u001b[39mnp\u001b[39m.\u001b[39mones(\u001b[39mlen\u001b[39m(features_neg))))\n\u001b[1;32m      <a href='vscode-notebook-cell://ssh-remote%2B7b22686f73744e616d65223a224841472d4136303030227d/home/chenbeitao/data/code/CV-Project/Projects/proj4/code/proj4.ipynb#ch0000010vscode-remote?line=2'>3</a>\u001b[0m [tp_rate, fp_rate, tn_rate, fn_rate] \u001b[39m=\u001b[39m report_accuracy(confidences, label_vector)\n",
      "\u001b[0;31mAttributeError\u001b[0m: 'NoneType' object has no attribute 'decision_function'"
     ]
    }
   ],
   "source": [
    "confidences = svm.decision_function(np.vstack((features_pos, features_neg)))\n",
    "label_vector = np.hstack((np.ones(len(features_pos)), -np.ones(len(features_neg))))\n",
    "[tp_rate, fp_rate, tn_rate, fn_rate] = report_accuracy(confidences, label_vector)"
   ]
  },
  {
   "cell_type": "markdown",
   "metadata": {},
   "source": [
    "Visualize how well separated the positive and negative examples are at\n",
    "training time. Sometimes this can idenfity odd biases in your training\n",
    "data, especially if you're trying hard negative mining. This\n",
    "visualization won't be very meaningful with the placeholder starter code."
   ]
  },
  {
   "cell_type": "code",
   "execution_count": null,
   "metadata": {},
   "outputs": [],
   "source": [
    "face_confs = confidences[label_vector > 0]\n",
    "non_face_confs = confidences[label_vector < 0]\n",
    "plt.figure()\n",
    "plt.hist(np.sort(face_confs), 100, facecolor='g', histtype='step', density=1,label='faces')\n",
    "plt.hist(np.sort(non_face_confs), 100, facecolor='r', histtype='step',density=1, label='non faces')\n",
    "#plt.plot([0, len(non_face_confs)], [0, 0], 'b', label='decision boundary')\n",
    "plt.xlabel('predicted score')\n",
    "plt.ylabel('Percentage of images')\n",
    "plt.legend()"
   ]
  },
  {
   "cell_type": "markdown",
   "metadata": {},
   "source": [
    "Visualize the HOG feature template to examine if the detector has learned a meaningful representation for the object (faces in this case).  This would be a good thing to include in your writeup."
   ]
  },
  {
   "cell_type": "code",
   "execution_count": null,
   "metadata": {
    "scrolled": true
   },
   "outputs": [],
   "source": [
    "visualize_hog(svm, feature_params)"
   ]
  },
  {
   "cell_type": "markdown",
   "metadata": {},
   "source": [
    "## Section 4: Mine Hard Negatives\n",
    "You can get very good performance by using random negatives, so hard negative mining may not show great improvement for face detection. Hard negative mining would probably be more important if you had a strict budget of negative training examples or a\n",
    "more expressive, non-linear classifier that can benefit from more training data."
   ]
  },
  {
   "cell_type": "code",
   "execution_count": null,
   "metadata": {
    "scrolled": true
   },
   "outputs": [],
   "source": [
    "# hard_negs = sc.mine_hard_negs(non_face_scn_path, svm, feature_params)\n",
    "# features_neg_2 = np.vstack((features_neg, hard_negs))"
   ]
  },
  {
   "cell_type": "markdown",
   "metadata": {},
   "source": [
    "Then you can train the classifier again with the new features_neg. You can also check the difference of the performance."
   ]
  },
  {
   "cell_type": "code",
   "execution_count": null,
   "metadata": {},
   "outputs": [],
   "source": [
    "# svm_2 = sc.train_classifier(features_pos, features_neg_2, 5e-2)"
   ]
  },
  {
   "cell_type": "markdown",
   "metadata": {},
   "source": [
    "## Section 5: Run Detector on Test Set\n",
    "Make sure the outputs of sc.run_detector() are properly structured! They will be interpreted in Section 6 to evaluate and visualize your\n",
    "results. See sc.run_detector() documentation for more details.\n",
    "\n",
    "sc.run_detector() will have (at least) two parameters which can heavily\n",
    "influence performance - how much to rescale each step of your multiscale\n",
    "detector, and the threshold for a detection. If your recall rate is low\n",
    "and your detector still has high precision at its highest recall point,\n",
    "you can improve your average precision by reducing the threshold for a\n",
    "positive detection."
   ]
  },
  {
   "cell_type": "code",
   "execution_count": null,
   "metadata": {
    "scrolled": true
   },
   "outputs": [],
   "source": [
    "bboxes, confidences, image_ids = sc.run_detector(test_scn_path, svm, feature_params)"
   ]
  },
  {
   "cell_type": "markdown",
   "metadata": {},
   "source": [
    "Let's detect again using the classifier trained using hard negative examples. The results will be saved separately."
   ]
  },
  {
   "cell_type": "code",
   "execution_count": null,
   "metadata": {},
   "outputs": [],
   "source": [
    "bboxes_2, confidences_2, image_ids_2 = sc.run_detector(test_scn_path, svm_2, feature_params)"
   ]
  },
  {
   "cell_type": "code",
   "execution_count": null,
   "metadata": {},
   "outputs": [],
   "source": []
  },
  {
   "cell_type": "markdown",
   "metadata": {},
   "source": [
    "## Section 6: Evaluate and Visualize Detections\n",
    "These functions require ground truth annotations, and thus can only be run on the CMU+MIT face test set. \n",
    "Don't modify anything in evaluate_detections()!\n",
    "\n",
    "Performance to aim for:\n",
    "- random (stater code): 0.001 AP\n",
    "- single scale: ~ 0.3 to 0.4 AP\n",
    "- multiscale: ~ 0.75 to 0.9 AP\n",
    "\n",
    "You are encouraged to implement multi-scale detection and achieve at 0.8 AP or higher to receive a better score.\n",
    "\n",
    "First we compare the detection performance between different classifiers quantitatively."
   ]
  },
  {
   "cell_type": "code",
   "execution_count": null,
   "metadata": {
    "scrolled": false
   },
   "outputs": [],
   "source": [
    "gt_ids, gt_bboxes, gt_isclaimed, tp, fp, duplicate_detections = evaluate_detections(bboxes, confidences,\n",
    "                                                                                    image_ids, label_filename)"
   ]
  },
  {
   "cell_type": "code",
   "execution_count": null,
   "metadata": {
    "scrolled": true
   },
   "outputs": [],
   "source": [
    "gt_ids, gt_bboxes, gt_isclaimed, tp_2, fp_2, duplicate_detections_2 = evaluate_detections(bboxes_2, confidences_2,\n",
    "                                                                                    image_ids_2, label_filename)"
   ]
  },
  {
   "cell_type": "markdown",
   "metadata": {},
   "source": [
    "And then we show the detection results on the test scenes. By default we only show the results from the second classifier. You can also check the first classifier by uncommenting the first line."
   ]
  },
  {
   "cell_type": "code",
   "execution_count": null,
   "metadata": {
    "scrolled": true
   },
   "outputs": [],
   "source": [
    "# visualize_detections_by_image(bboxes, confidences, image_ids, tp, fp, test_scn_path, label_filename)\n",
    "visualize_detections_by_image(bboxes_2, confidences_2, image_ids_2, tp_2, fp_2, test_scn_path, label_filename)"
   ]
  },
  {
   "cell_type": "markdown",
   "metadata": {},
   "source": [
    "## (Optional) Visualize Detections on Extra Scenes\n",
    "Uncomment the following codes to test your detector on extra scenes. "
   ]
  },
  {
   "cell_type": "code",
   "execution_count": null,
   "metadata": {
    "scrolled": false
   },
   "outputs": [],
   "source": [
    "# test_scn_path_extra = osp.join(data_path, 'extra_test_scenes') # Bonus scenes\n",
    "# bboxes_extra, confidences_extra, image_ids_extra = sc.run_detector(test_scn_path_extra, svm_2, feature_params)"
   ]
  },
  {
   "cell_type": "code",
   "execution_count": null,
   "metadata": {},
   "outputs": [],
   "source": [
    "# visualize_detections_by_image_no_gt(bboxes_extra, confidences_extra, image_ids_extra, test_scn_path_extra)"
   ]
  },
  {
   "cell_type": "code",
   "execution_count": null,
   "metadata": {},
   "outputs": [],
   "source": []
  }
 ],
 "metadata": {
  "interpreter": {
   "hash": "dd41fd7c7bd0ebb35b0e89aba6ca0e451e84ebe529fcd8c60a0a5f0ac11a7748"
  },
  "kernelspec": {
   "display_name": "Python 3.8.12 ('mmlab')",
   "language": "python",
   "name": "python3"
  },
  "language_info": {
   "codemirror_mode": {
    "name": "ipython",
    "version": 3
   },
   "file_extension": ".py",
   "mimetype": "text/x-python",
   "name": "python",
   "nbconvert_exporter": "python",
   "pygments_lexer": "ipython3",
   "version": "3.8.12"
  },
  "widgets": {
   "state": {},
   "version": "1.1.2"
  }
 },
 "nbformat": 4,
 "nbformat_minor": 2
}
